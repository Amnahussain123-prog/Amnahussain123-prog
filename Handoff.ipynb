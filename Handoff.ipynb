{
  "nbformat": 4,
  "nbformat_minor": 0,
  "metadata": {
    "colab": {
      "provenance": [],
      "authorship_tag": "ABX9TyPOdhlaQqZ5m4dzT68Ed2b9",
      "include_colab_link": true
    },
    "kernelspec": {
      "name": "python3",
      "display_name": "Python 3"
    },
    "language_info": {
      "name": "python"
    }
  },
  "cells": [
    {
      "cell_type": "markdown",
      "metadata": {
        "id": "view-in-github",
        "colab_type": "text"
      },
      "source": [
        "<a href=\"https://colab.research.google.com/github/Amnahussain123-prog/Amnahussain123-prog/blob/main/Handoff.ipynb\" target=\"_parent\"><img src=\"https://colab.research.google.com/assets/colab-badge.svg\" alt=\"Open In Colab\"/></a>"
      ]
    },
    {
      "cell_type": "code",
      "execution_count": 115,
      "metadata": {
        "id": "0RyiJHmln7mR"
      },
      "outputs": [],
      "source": [
        "!pip install -qU openai-agents"
      ]
    },
    {
      "cell_type": "code",
      "source": [
        "import nest_asyncio\n",
        "nest_asyncio.apply()"
      ],
      "metadata": {
        "id": "xHywbi9aomiz"
      },
      "execution_count": 116,
      "outputs": []
    },
    {
      "cell_type": "code",
      "source": [
        "from google.colab import userdata\n",
        "from agents import AsyncOpenAI, OpenAIChatCompletionsModel,RunConfig\n",
        "API_KEY = userdata.get('GEMINI_API_KEY')"
      ],
      "metadata": {
        "id": "xZEH968fovrB"
      },
      "execution_count": 117,
      "outputs": []
    },
    {
      "cell_type": "code",
      "source": [
        "external_client = AsyncOpenAI(api_key=API_KEY,\n",
        "    base_url=\"https://generativelanguage.googleapis.com/v1beta/openai/\",\n",
        ")\n",
        "\n",
        "model = OpenAIChatCompletionsModel(model = \"gemini-2.0-flash\",\n",
        "                                   openai_client=external_client\n",
        "                                   )\n",
        "\n",
        "config = RunConfig(model=model,\n",
        "                   model_provider=external_client,\n",
        "                   tracing_disabled=True)"
      ],
      "metadata": {
        "id": "J97aWZXVpPR8"
      },
      "execution_count": 118,
      "outputs": []
    },
    {
      "cell_type": "code",
      "source": [
        "import asyncio\n",
        "from agents import Agent, handoff, Runner\n",
        "from agents.extensions.visualization import draw_graph"
      ],
      "metadata": {
        "id": "IT9tNok5qPjf"
      },
      "execution_count": 119,
      "outputs": []
    },
    {
      "cell_type": "code",
      "source": [
        "Urdu_translator = Agent(\n",
        "    name=\"Urdu Translator\",\n",
        "    instructions=\"Translates English text to Urdu\"\n",
        ")\n",
        "\n",
        "English_translator = Agent(\n",
        "    name=\"English Translator\",\n",
        "    instructions=\"Translates Urdu text to English\"\n",
        ")\n",
        "\n",
        "Spanish_translator = Agent(\n",
        "    name=\"Spanish Translator\",\n",
        "    instructions=\"Translates English text to Spanish\"\n",
        ")\n",
        "\n",
        "German_translator = Agent(\n",
        "    name=\"German Translator\",\n",
        "    instructions=\"Translates English text to German\"\n",
        ")\n",
        "\n",
        "triage_translator = Agent(\n",
        "    name=\"Triage Translator\",\n",
        "    instructions=\"Handoff to the appropriate agent based on the language of the request.\",\n",
        "    handoffs=[Urdu_translator, English_translator, Spanish_translator, German_translator]\n",
        ")\n",
        "\n",
        "starting_agent = triage_translator\n"
      ],
      "metadata": {
        "id": "hY7LO1CpqgDw"
      },
      "execution_count": 120,
      "outputs": []
    },
    {
      "cell_type": "code",
      "source": [
        "graph = draw_graph(starting_agent)\n",
        "graph.render('handoff_flowchart', format='png', cleanup=True)\n"
      ],
      "metadata": {
        "colab": {
          "base_uri": "https://localhost:8080/",
          "height": 35
        },
        "id": "P8YsKWut7iiq",
        "outputId": "3bf674d6-f105-436f-d527-259c237ae611"
      },
      "execution_count": 129,
      "outputs": [
        {
          "output_type": "execute_result",
          "data": {
            "text/plain": [
              "'handoff_flowchart.png'"
            ],
            "application/vnd.google.colaboratory.intrinsic+json": {
              "type": "string"
            }
          },
          "metadata": {},
          "execution_count": 129
        }
      ]
    },
    {
      "cell_type": "code",
      "source": [
        "async def main(starting_agent, input_text, run_config):\n",
        "    result = await Runner.run(starting_agent, input=input_text, run_config=run_config)\n",
        "    print(result.final_output)\n",
        "    return result"
      ],
      "metadata": {
        "id": "e1EEa9-9ypMz"
      },
      "execution_count": 125,
      "outputs": []
    },
    {
      "cell_type": "code",
      "source": [
        "result = asyncio.run(main(starting_agent=triage_translator,\n",
        "                input_text=\"What are the courses offered in german?\",\n",
        "                run_config=config))\n",
        "print(result.last_agent)\n",
        "print(result.final_output)\n"
      ],
      "metadata": {
        "colab": {
          "base_uri": "https://localhost:8080/"
        },
        "id": "-0SRdCwJyxXI",
        "outputId": "8ebccffe-5388-4a5c-9433-b3d53a742c24"
      },
      "execution_count": 126,
      "outputs": [
        {
          "output_type": "stream",
          "name": "stdout",
          "text": [
            "Welche Kurse werden auf Deutsch angeboten?\n",
            "\n",
            "Agent(name='German Translator', instructions='Translates English text to German', handoff_description=None, handoffs=[], model=None, model_settings=ModelSettings(temperature=None, top_p=None, frequency_penalty=None, presence_penalty=None, tool_choice=None, parallel_tool_calls=None, truncation=None, max_tokens=None, reasoning=None, metadata=None, store=None, include_usage=None, extra_query=None, extra_body=None, extra_headers=None), tools=[], mcp_servers=[], mcp_config={}, input_guardrails=[], output_guardrails=[], output_type=None, hooks=None, tool_use_behavior='run_llm_again', reset_tool_choice=True)\n",
            "Welche Kurse werden auf Deutsch angeboten?\n",
            "\n"
          ]
        }
      ]
    },
    {
      "cell_type": "code",
      "source": [
        "result = asyncio.run(main(starting_agent=triage_translator,\n",
        "                input_text=\"tell me importance of english. translate this in urdu\",\n",
        "                run_config=config))\n",
        "print(result.last_agent)\n",
        "print(result.final_output)\n"
      ],
      "metadata": {
        "colab": {
          "base_uri": "https://localhost:8080/"
        },
        "id": "94FRpmhC00sO",
        "outputId": "c92b3bdb-153e-4ceb-8c8f-c6ca276340c7"
      },
      "execution_count": 127,
      "outputs": [
        {
          "output_type": "stream",
          "name": "stdout",
          "text": [
            "انگریزی کی اہمیت بتائیں۔\n",
            "\n",
            "Agent(name='Urdu Translator', instructions='Translates English text to Urdu', handoff_description=None, handoffs=[], model=None, model_settings=ModelSettings(temperature=None, top_p=None, frequency_penalty=None, presence_penalty=None, tool_choice=None, parallel_tool_calls=None, truncation=None, max_tokens=None, reasoning=None, metadata=None, store=None, include_usage=None, extra_query=None, extra_body=None, extra_headers=None), tools=[], mcp_servers=[], mcp_config={}, input_guardrails=[], output_guardrails=[], output_type=None, hooks=None, tool_use_behavior='run_llm_again', reset_tool_choice=True)\n",
            "انگریزی کی اہمیت بتائیں۔\n",
            "\n"
          ]
        }
      ]
    }
  ]
}