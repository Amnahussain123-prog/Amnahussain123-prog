{
  "nbformat": 4,
  "nbformat_minor": 0,
  "metadata": {
    "colab": {
      "provenance": [],
      "authorship_tag": "ABX9TyNSVTk0Q/LyhhfnqjYtbaum",
      "include_colab_link": true
    },
    "kernelspec": {
      "name": "python3",
      "display_name": "Python 3"
    },
    "language_info": {
      "name": "python"
    }
  },
  "cells": [
    {
      "cell_type": "markdown",
      "metadata": {
        "id": "view-in-github",
        "colab_type": "text"
      },
      "source": [
        "<a href=\"https://colab.research.google.com/github/Amnahussain123-prog/Amnahussain123-prog/blob/main/00_joke_bot.ipynb\" target=\"_parent\"><img src=\"https://colab.research.google.com/assets/colab-badge.svg\" alt=\"Open In Colab\"/></a>"
      ]
    },
    {
      "cell_type": "code",
      "source": [
        "PROMPT: str = \"What do you want?\"\n",
        "JOKE: str = \"Here is a joke for you! Sophia is heading out to the grocery store. A programmer tells her: get a liter of milk, and if they have eggs, get 12. Sophia returns with 13 liters of milk. The programmer asks why and Sophia replies: 'because they had eggs'\"\n",
        "SORRY: str = \"I only tell jokes.\"\n",
        "\n",
        "def main():\n",
        "    user_input = input(PROMPT) #Get user input here\n",
        "    user_input = user_input.strip().lower()\n",
        "    if user_input == \"joke\": #Use lowercase for comparison\n",
        "        print(JOKE)\n",
        "    else:\n",
        "        print(SORRY)\n",
        "if __name__ == '__main__':\n",
        "      main()"
      ],
      "metadata": {
        "id": "MvUAhZwxlOv9"
      },
      "execution_count": null,
      "outputs": []
    }
  ]
}