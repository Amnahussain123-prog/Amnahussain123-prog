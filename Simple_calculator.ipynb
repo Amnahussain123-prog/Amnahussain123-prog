{
  "nbformat": 4,
  "nbformat_minor": 0,
  "metadata": {
    "colab": {
      "provenance": [],
      "authorship_tag": "ABX9TyPYfbfY8uzvTB4JjAUUgxqI",
      "include_colab_link": true
    },
    "kernelspec": {
      "name": "python3",
      "display_name": "Python 3"
    },
    "language_info": {
      "name": "python"
    }
  },
  "cells": [
    {
      "cell_type": "markdown",
      "metadata": {
        "id": "view-in-github",
        "colab_type": "text"
      },
      "source": [
        "<a href=\"https://colab.research.google.com/github/Amnahussain123-prog/Amnahussain123-prog/blob/main/Simple_calculator.ipynb\" target=\"_parent\"><img src=\"https://colab.research.google.com/assets/colab-badge.svg\" alt=\"Open In Colab\"/></a>"
      ]
    },
    {
      "cell_type": "code",
      "execution_count": null,
      "metadata": {
        "id": "4jbZEZc1g6Zh"
      },
      "outputs": [],
      "source": [
        "def simple_calculator(num1, num2, operation):\n",
        "    if operation == '+':\n",
        "        return num1 + num2\n",
        "    elif operation == '-':\n",
        "        return num1 - num2\n",
        "    elif operation == \"*\":\n",
        "        return num1 * num2\n",
        "    elif operation == \"/\":\n",
        "        return num1 / num2\n",
        "    else:\n",
        "        return \"Invalid Operation\"\n",
        "        print(\"Invalid Operation\")\n",
        "\n",
        "num1=float(input(\"Enter the first number:\"))\n",
        "num2=float(input(\"Enter the second number:\"))\n",
        "operation=input(\"Enter the operation(+,-,*,/:)\")\n",
        "result=simple_calculator(num1,num2,operation)\n",
        "print(\"result:\", result)\n"
      ]
    }
  ]
}