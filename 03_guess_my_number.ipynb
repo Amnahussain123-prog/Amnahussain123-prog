{
  "nbformat": 4,
  "nbformat_minor": 0,
  "metadata": {
    "colab": {
      "provenance": [],
      "authorship_tag": "ABX9TyN6xtvc7kObouh0FHr7rLVb",
      "include_colab_link": true
    },
    "kernelspec": {
      "name": "python3",
      "display_name": "Python 3"
    },
    "language_info": {
      "name": "python"
    }
  },
  "cells": [
    {
      "cell_type": "markdown",
      "metadata": {
        "id": "view-in-github",
        "colab_type": "text"
      },
      "source": [
        "<a href=\"https://colab.research.google.com/github/Amnahussain123-prog/Amnahussain123-prog/blob/main/03_guess_my_number.ipynb\" target=\"_parent\"><img src=\"https://colab.research.google.com/assets/colab-badge.svg\" alt=\"Open In Colab\"/></a>"
      ]
    },
    {
      "cell_type": "code",
      "source": [
        "import random\n",
        "def guess_the_number():\n",
        "    random_number = random.randint(1,100)\n",
        "    guess = 50\n",
        "    while guess != random_number:\n",
        "        guess = int(input(f\"Guess a number between 1 and {100}:\"))\n",
        "        if guess < random_number:\n",
        "            print(\"Too low\")\n",
        "        elif guess > random_number:\n",
        "            print(\"Too high\")\n",
        "    print(\"You guessed correctly!\")\n",
        "guess_the_number()\n",
        ""
      ],
      "metadata": {
        "colab": {
          "base_uri": "https://localhost:8080/"
        },
        "id": "26duu-XDHDQx",
        "outputId": "27f5dd96-88bc-42e9-e7eb-8f5e157b2108"
      },
      "execution_count": 37,
      "outputs": [
        {
          "output_type": "stream",
          "name": "stdout",
          "text": [
            "Guess a number between 1 and 100:50\n",
            "Too low\n",
            "Guess a number between 1 and 100:40\n",
            "Too low\n",
            "Guess a number between 1 and 100:60\n",
            "Too low\n",
            "Guess a number between 1 and 100:87\n",
            "Too high\n",
            "Guess a number between 1 and 100:85\n",
            "Too high\n",
            "Guess a number between 1 and 100:80\n",
            "Too low\n",
            "Guess a number between 1 and 100:81\n",
            "Too low\n",
            "Guess a number between 1 and 100:82\n",
            "You guessed correctly!\n"
          ]
        }
      ]
    }
  ]
}