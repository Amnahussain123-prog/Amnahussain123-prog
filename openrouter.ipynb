{
  "nbformat": 4,
  "nbformat_minor": 0,
  "metadata": {
    "colab": {
      "provenance": [],
      "authorship_tag": "ABX9TyNwD51gVRu5N3JEFrhen1Sp",
      "include_colab_link": true
    },
    "kernelspec": {
      "name": "python3",
      "display_name": "Python 3"
    },
    "language_info": {
      "name": "python"
    }
  },
  "cells": [
    {
      "cell_type": "markdown",
      "metadata": {
        "id": "view-in-github",
        "colab_type": "text"
      },
      "source": [
        "<a href=\"https://colab.research.google.com/github/Amnahussain123-prog/Amnahussain123-prog/blob/main/openrouter.ipynb\" target=\"_parent\"><img src=\"https://colab.research.google.com/assets/colab-badge.svg\" alt=\"Open In Colab\"/></a>"
      ]
    },
    {
      "cell_type": "code",
      "execution_count": 1,
      "metadata": {
        "colab": {
          "base_uri": "https://localhost:8080/"
        },
        "id": "y8h7VPh0EL5X",
        "outputId": "ff19865e-a431-4b5c-965e-7dd0ff7d065b"
      },
      "outputs": [
        {
          "output_type": "stream",
          "name": "stdout",
          "text": [
            "\u001b[?25l   \u001b[90m━━━━━━━━━━━━━━━━━━━━━━━━━━━━━━━━━━━━━━━━\u001b[0m \u001b[32m0.0/116.9 kB\u001b[0m \u001b[31m?\u001b[0m eta \u001b[36m-:--:--\u001b[0m\r\u001b[2K   \u001b[90m━━━━━━━━━━━━━━━━━━━━━━━━━━━━━━━━━━━━━━━━\u001b[0m \u001b[32m116.9/116.9 kB\u001b[0m \u001b[31m3.9 MB/s\u001b[0m eta \u001b[36m0:00:00\u001b[0m\n",
            "\u001b[?25h\u001b[?25l   \u001b[90m━━━━━━━━━━━━━━━━━━━━━━━━━━━━━━━━━━━━━━━━\u001b[0m \u001b[32m0.0/129.3 kB\u001b[0m \u001b[31m?\u001b[0m eta \u001b[36m-:--:--\u001b[0m\r\u001b[2K   \u001b[90m━━━━━━━━━━━━━━━━━━━━━━━━━━━━━━━━━━━━━━━━\u001b[0m \u001b[32m129.3/129.3 kB\u001b[0m \u001b[31m4.9 MB/s\u001b[0m eta \u001b[36m0:00:00\u001b[0m\n",
            "\u001b[2K   \u001b[90m━━━━━━━━━━━━━━━━━━━━━━━━━━━━━━━━━━━━━━━━\u001b[0m \u001b[32m119.8/119.8 kB\u001b[0m \u001b[31m7.3 MB/s\u001b[0m eta \u001b[36m0:00:00\u001b[0m\n",
            "\u001b[2K   \u001b[90m━━━━━━━━━━━━━━━━━━━━━━━━━━━━━━━━━━━━━━━━\u001b[0m \u001b[32m44.4/44.4 kB\u001b[0m \u001b[31m2.1 MB/s\u001b[0m eta \u001b[36m0:00:00\u001b[0m\n",
            "\u001b[2K   \u001b[90m━━━━━━━━━━━━━━━━━━━━━━━━━━━━━━━━━━━━━━━━\u001b[0m \u001b[32m72.0/72.0 kB\u001b[0m \u001b[31m4.1 MB/s\u001b[0m eta \u001b[36m0:00:00\u001b[0m\n",
            "\u001b[2K   \u001b[90m━━━━━━━━━━━━━━━━━━━━━━━━━━━━━━━━━━━━━━━━\u001b[0m \u001b[32m62.5/62.5 kB\u001b[0m \u001b[31m3.5 MB/s\u001b[0m eta \u001b[36m0:00:00\u001b[0m\n",
            "\u001b[?25h"
          ]
        }
      ],
      "source": [
        "!pip install -Uq openai-agents"
      ]
    },
    {
      "cell_type": "code",
      "source": [
        "import nest_asyncio\n",
        "nest_asyncio.apply()"
      ],
      "metadata": {
        "id": "dgBOg6oQETl3"
      },
      "execution_count": 2,
      "outputs": []
    },
    {
      "cell_type": "code",
      "source": [
        "from google.colab import userdata\n",
        "\n",
        "OPENROUTER_API_KEY = userdata.get(\"OPENROUTER_API_KEY\")"
      ],
      "metadata": {
        "id": "KdxJENz_EmpG"
      },
      "execution_count": 6,
      "outputs": []
    },
    {
      "cell_type": "code",
      "source": [
        "#Reference: https://openrouter.ai/docs/quickstart\n",
        "\n",
        "BASE_URL = \"https://openrouter.ai/api/v1\"\n",
        "MODEL = \"deepseek/deepseek-chat-v3-0324:free\""
      ],
      "metadata": {
        "id": "SG0N6yuDEaK6"
      },
      "execution_count": 16,
      "outputs": []
    },
    {
      "cell_type": "code",
      "source": [
        "import requests\n",
        "import json\n",
        "\n",
        "response = requests.post(\n",
        "  url=f\"{BASE_URL}/chat/completions\",\n",
        "  headers={\n",
        "    \"Authorization\": f\"Bearer {OPENROUTER_API_KEY}\",\n",
        "  },\n",
        "  data=json.dumps({\n",
        "    \"model\": MODEL,\n",
        "    \"messages\": [\n",
        "      {\n",
        "        \"role\": \"user\",\n",
        "        \"content\": \"What is the meaning of life?\"\n",
        "      }\n",
        "    ]\n",
        "  })\n",
        ")\n",
        "\n",
        "print(response.json())"
      ],
      "metadata": {
        "colab": {
          "base_uri": "https://localhost:8080/"
        },
        "id": "pXK-721JEh_q",
        "outputId": "6cab4243-ff59-4d62-cfda-17129f5368f9"
      },
      "execution_count": 17,
      "outputs": [
        {
          "output_type": "stream",
          "name": "stdout",
          "text": [
            "{'id': 'gen-1747130956-S9xocG3flwiTI2gU3fcB', 'provider': 'Chutes', 'model': 'deepseek/deepseek-chat-v3-0324:free', 'object': 'chat.completion', 'created': 1747130957, 'choices': [{'logprobs': None, 'finish_reason': 'stop', 'native_finish_reason': 'stop', 'index': 0, 'message': {'role': 'assistant', 'content': 'The meaning of life is one of humanity\\'s oldest and most profound questions, with answers varying across philosophy, science, religion, and personal belief systems. Here are some key perspectives:\\n\\n### **Philosophical Perspectives:**\\n1. **Existentialism (Sartre, Camus):** Life has no inherent meaning—it’s up to each individual to create their own purpose through choices and actions.\\n2. **Stoicism (Marcus Aurelius, Epictetus):** Meaning comes from living virtuously, accepting what we cannot control, and focusing on what we can.\\n3. **Nihilism (Nietzsche’s early influence):** Life has no objective meaning, but this can free us to define our own values.\\n4. **Absurdism (Camus):** The search for meaning in an indifferent universe is absurd, but we must embrace life regardless.\\n\\n### **Scientific Perspective:**\\n- From a biological standpoint, life’s \"meaning\" is survival and reproduction (evolutionary purpose).\\n- Neuroscience suggests meaning arises from how our brains seek patterns, connections, and fulfillment.\\n\\n### **Spiritual/Religious Perspectives:**\\n- **Christianity/Judaism/Islam:** Meaning comes from serving and connecting with God, living morally, and fulfilling divine purpose.\\n- **Buddhism/Hinduism:** Life’s purpose is enlightenment (awakening from suffering) and liberation (moksha) through self-realization.\\n- **Taoism:** Meaning lies in harmony with the natural flow of the universe (the Tao).\\n\\n### **Personal Perspective:**\\nMany find meaning through:\\n- Relationships (love, family, friendship)\\n- Creativity (art, innovation, expression)\\n- Impact (helping others, social change)\\n- Growth (learning, self-improvement)\\n- Experience (joy, adventure, curiosity)\\n\\n**Conclusion:** There’s no single \"correct\" answer—it\\'s deeply personal. Some embrace predefined meaning (religion, philosophy), while others craft their own. As existentialist Viktor Frankl wrote after surviving the Holocaust, *\"Life is never made unbearable by circumstances, but only by lack of meaning and purpose.\"* \\n\\nWould you like guidance on finding your own answer?', 'refusal': None, 'reasoning': None}}], 'usage': {'prompt_tokens': 10, 'completion_tokens': 451, 'total_tokens': 461, 'prompt_tokens_details': None}}\n"
          ]
        }
      ]
    },
    {
      "cell_type": "code",
      "source": [
        "data = response.json()\n",
        "data['choices'][0]['message']['content']"
      ],
      "metadata": {
        "colab": {
          "base_uri": "https://localhost:8080/",
          "height": 192
        },
        "id": "l6-g3c1eHUx4",
        "outputId": "dc90da95-4ddd-4bd2-fbdb-055d39ffee33"
      },
      "execution_count": 18,
      "outputs": [
        {
          "output_type": "execute_result",
          "data": {
            "text/plain": [
              "'The meaning of life is one of humanity\\'s oldest and most profound questions, with answers varying across philosophy, science, religion, and personal belief systems. Here are some key perspectives:\\n\\n### **Philosophical Perspectives:**\\n1. **Existentialism (Sartre, Camus):** Life has no inherent meaning—it’s up to each individual to create their own purpose through choices and actions.\\n2. **Stoicism (Marcus Aurelius, Epictetus):** Meaning comes from living virtuously, accepting what we cannot control, and focusing on what we can.\\n3. **Nihilism (Nietzsche’s early influence):** Life has no objective meaning, but this can free us to define our own values.\\n4. **Absurdism (Camus):** The search for meaning in an indifferent universe is absurd, but we must embrace life regardless.\\n\\n### **Scientific Perspective:**\\n- From a biological standpoint, life’s \"meaning\" is survival and reproduction (evolutionary purpose).\\n- Neuroscience suggests meaning arises from how our brains seek patterns, connections, and fulfillment.\\n\\n### **Spiritual/Religious Perspectives:**\\n- **Christianity/Judaism/Islam:** Meaning comes from serving and connecting with God, living morally, and fulfilling divine purpose.\\n- **Buddhism/Hinduism:** Life’s purpose is enlightenment (awakening from suffering) and liberation (moksha) through self-realization.\\n- **Taoism:** Meaning lies in harmony with the natural flow of the universe (the Tao).\\n\\n### **Personal Perspective:**\\nMany find meaning through:\\n- Relationships (love, family, friendship)\\n- Creativity (art, innovation, expression)\\n- Impact (helping others, social change)\\n- Growth (learning, self-improvement)\\n- Experience (joy, adventure, curiosity)\\n\\n**Conclusion:** There’s no single \"correct\" answer—it\\'s deeply personal. Some embrace predefined meaning (religion, philosophy), while others craft their own. As existentialist Viktor Frankl wrote after surviving the Holocaust, *\"Life is never made unbearable by circumstances, but only by lack of meaning and purpose.\"* \\n\\nWould you like guidance on finding your own answer?'"
            ],
            "application/vnd.google.colaboratory.intrinsic+json": {
              "type": "string"
            }
          },
          "metadata": {},
          "execution_count": 18
        }
      ]
    },
    {
      "cell_type": "code",
      "source": [
        "import asyncio\n",
        "from openai import AsyncOpenAI\n",
        "from agents import Agent, OpenAIChatCompletionsModel, Runner, set_tracing_disabled\n",
        "\n",
        "client = AsyncOpenAI(\n",
        "    api_key=OPENROUTER_API_KEY,\n",
        "    base_url=BASE_URL\n",
        ")\n",
        "\n",
        "set_tracing_disabled(disabled=True)\n",
        "\n",
        "async def main():\n",
        "    # This agent will use the custom LLM provider\n",
        "    agent = Agent(\n",
        "        name=\"Assistant\",\n",
        "        instructions=\"You only respond in 4 lines poetry.\",\n",
        "        model=OpenAIChatCompletionsModel(model=MODEL, openai_client=client),\n",
        "    )\n",
        "\n",
        "    result = await Runner.run(\n",
        "        agent,\n",
        "        \"Tell me about childhood moments in urdu.\",\n",
        "    )\n",
        "    print(result.final_output)\n",
        "\n",
        "\n",
        "if __name__ == \"__main__\":\n",
        "    asyncio.run(main())"
      ],
      "metadata": {
        "colab": {
          "base_uri": "https://localhost:8080/"
        },
        "id": "Hqzx69XWH-IH",
        "outputId": "095e1c77-56db-4223-9706-a6491440a74c"
      },
      "execution_count": 25,
      "outputs": [
        {
          "output_type": "stream",
          "name": "stdout",
          "text": [
            "\n",
            "بچپن کی یادوں میں کھو جاؤ،\n",
            "کھیلوں کی دھوم مچ جائے،\n",
            "ماں کی گود میں سکون ملے،\n",
            "یہی تو ہے زندگی کی رونق۔\n"
          ]
        }
      ]
    }
  ]
}