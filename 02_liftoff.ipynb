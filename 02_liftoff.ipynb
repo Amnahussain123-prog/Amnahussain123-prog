{
  "nbformat": 4,
  "nbformat_minor": 0,
  "metadata": {
    "colab": {
      "provenance": [],
      "authorship_tag": "ABX9TyN+0K4iPRSRbonD8MADW3zX",
      "include_colab_link": true
    },
    "kernelspec": {
      "name": "python3",
      "display_name": "Python 3"
    },
    "language_info": {
      "name": "python"
    }
  },
  "cells": [
    {
      "cell_type": "markdown",
      "metadata": {
        "id": "view-in-github",
        "colab_type": "text"
      },
      "source": [
        "<a href=\"https://colab.research.google.com/github/Amnahussain123-prog/Amnahussain123-prog/blob/main/02_liftoff.ipynb\" target=\"_parent\"><img src=\"https://colab.research.google.com/assets/colab-badge.svg\" alt=\"Open In Colab\"/></a>"
      ]
    },
    {
      "cell_type": "code",
      "source": [
        "import time\n",
        "def main():\n",
        "    for i in range(10,0,-1):\n",
        "        if(i < 10):\n",
        "            print(\"0\", end=\"\")\n",
        "        print(i, end=\"\", flush=True)\n",
        "        print(\"\\b\\b\", end=\"\")\n",
        "\n",
        "        time.sleep(1)\n",
        "    print(\"Liftoff!\")\n",
        "if __name__ == '__main__':\n",
        "    main()\n"
      ],
      "metadata": {
        "colab": {
          "base_uri": "https://localhost:8080/"
        },
        "id": "ekw030NjDwTZ",
        "outputId": "2262a634-21f7-4c52-e5e4-616d253b4052"
      },
      "execution_count": 30,
      "outputs": [
        {
          "output_type": "stream",
          "name": "stdout",
          "text": [
            "10\b\b09\b\b08\b\b07\b\b06\b\b05\b\b04\b\b03\b\b02\b\b01\b\bLiftoff!\n"
          ]
        }
      ]
    }
  ]
}