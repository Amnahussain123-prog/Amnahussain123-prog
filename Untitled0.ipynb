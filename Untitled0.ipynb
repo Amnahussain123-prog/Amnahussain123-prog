{
  "nbformat": 4,
  "nbformat_minor": 0,
  "metadata": {
    "colab": {
      "provenance": [],
      "authorship_tag": "ABX9TyPGrWzPa9RVDANPOsfoH42U",
      "include_colab_link": true
    },
    "kernelspec": {
      "name": "python3",
      "display_name": "Python 3"
    },
    "language_info": {
      "name": "python"
    }
  },
  "cells": [
    {
      "cell_type": "markdown",
      "metadata": {
        "id": "view-in-github",
        "colab_type": "text"
      },
      "source": [
        "<a href=\"https://colab.research.google.com/github/Amnahussain123-prog/Amnahussain123-prog/blob/main/Untitled0.ipynb\" target=\"_parent\"><img src=\"https://colab.research.google.com/assets/colab-badge.svg\" alt=\"Open In Colab\"/></a>"
      ]
    },
    {
      "cell_type": "code",
      "execution_count": 18,
      "metadata": {
        "colab": {
          "base_uri": "https://localhost:8080/"
        },
        "id": "Fx-hPKQttNRE",
        "outputId": "7c6e911c-442e-44ab-e13a-74eb932d35cb"
      },
      "outputs": [
        {
          "output_type": "stream",
          "name": "stdout",
          "text": [
            "Name:Amna Hussain, Age:17, Gender:Female, Roll no:02\n",
            "name:Amna Hussain\n",
            "age:17\n",
            "gender:Female\n",
            "roll no:02\n"
          ]
        }
      ],
      "source": [
        "class Human():\n",
        "    def __init__(self, name:str, age:int, gender:str, roll_no:int):\n",
        "        self.name = name\n",
        "        self.age = age\n",
        "        self.gender = gender\n",
        "        self.roll_no = roll_no\n",
        "\n",
        "class Student(Human):\n",
        "    def __init__(self, name:str, age:int, gender:str, roll_no:int):\n",
        "      self.name = name\n",
        "      self.age = age\n",
        "      self.gender = gender\n",
        "      self.roll_no = roll_no\n",
        "    print (\"Name:Amna Hussain, Age:17, Gender:Female, Roll no:02\")\n",
        "    print (\"name:Amna Hussain\")\n",
        "    print(\"age:17\")\n",
        "    print(\"gender:Female\")\n",
        "    print(\"roll no:02\")"
      ]
    }
  ]
}