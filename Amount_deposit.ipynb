{
  "nbformat": 4,
  "nbformat_minor": 0,
  "metadata": {
    "colab": {
      "provenance": [],
      "authorship_tag": "ABX9TyMYwXOai5hrGvYnNdPUB7CS",
      "include_colab_link": true
    },
    "kernelspec": {
      "name": "python3",
      "display_name": "Python 3"
    },
    "language_info": {
      "name": "python"
    }
  },
  "cells": [
    {
      "cell_type": "markdown",
      "metadata": {
        "id": "view-in-github",
        "colab_type": "text"
      },
      "source": [
        "<a href=\"https://colab.research.google.com/github/Amnahussain123-prog/Amnahussain123-prog/blob/main/Amount_deposit.ipynb\" target=\"_parent\"><img src=\"https://colab.research.google.com/assets/colab-badge.svg\" alt=\"Open In Colab\"/></a>"
      ]
    },
    {
      "cell_type": "code",
      "source": [
        "import random\n",
        "\n",
        "class BankingSystem:\n",
        "    def __init__(self, bank_name, initial_balance):\n",
        "        self.bank_name = bank_name\n",
        "        self.account_balance = initial_balance\n",
        "        self.otp = None\n",
        "\n",
        "    def generate_otp(self):\n",
        "        self.otp = random.randint(1000, 9999)\n",
        "        print(f\"Your OTP is: {self.otp}\")\n",
        "        return self.otp\n",
        "\n",
        "    def verify_otp(self, entered_otp):\n",
        "        if entered_otp == self.otp:\n",
        "            print(\"OTP verification successful.\")\n",
        "            return True\n",
        "        else:\n",
        "            print(\"Incorrect OTP. Please try again.\")\n",
        "            return False\n",
        "\n",
        "    def deposit(self, amount):\n",
        "        if amount > 0:\n",
        "            self.account_balance += amount\n",
        "            print(f\"Deposited {amount}. New balance: {self.account_balance}\")\n",
        "        else:\n",
        "            print(\"Invalid deposit amount.\")\n",
        "\n",
        "    def check_balance(self):\n",
        "        print(f\"Your current balance is: {self.account_balance}\")\n",
        "\n",
        "# Example usage\n",
        "bank = BankingSystem(\"World Banking\", 1000000)\n",
        "print(bank.bank_name)\n",
        "\n",
        "otp = bank.generate_otp()\n",
        "\n",
        "entered_otp = int(input(\"Enter OTP: \"))\n",
        "if bank.verify_otp(entered_otp):\n",
        "    deposit_amount = 50000\n",
        "    bank.deposit(deposit_amount)\n",
        "    bank.check_balance()\n",
        ""
      ],
      "metadata": {
        "colab": {
          "base_uri": "https://localhost:8080/"
        },
        "id": "7EjDkTQsjgXX",
        "outputId": "eb42aa0e-ab8f-495a-b352-86661233156a"
      },
      "execution_count": 13,
      "outputs": [
        {
          "output_type": "stream",
          "name": "stdout",
          "text": [
            "World Banking\n",
            "Your OTP is: 3696\n",
            "Enter OTP: 3696\n",
            "OTP verification successful.\n",
            "Deposited 50000. New balance: 1050000\n",
            "Your current balance is: 1050000\n"
          ]
        }
      ]
    }
  ]
}